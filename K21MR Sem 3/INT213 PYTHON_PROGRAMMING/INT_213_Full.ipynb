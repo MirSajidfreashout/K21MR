{
 "cells": [
  {
   "cell_type": "markdown",
   "id": "21f930d6",
   "metadata": {},
   "source": [
    "# INT 213\n",
    "---"
   ]
  },
  {
   "cell_type": "markdown",
   "id": "e1afda81",
   "metadata": {},
   "source": [
    "# Unit 1\n",
    "---\n",
    "## Introduction"
   ]
  },
  {
   "cell_type": "markdown",
   "id": "06ee2b30",
   "metadata": {},
   "source": [
    "* Python is a popular programming language. It was created by Guido van Rossum, and released in 1991. <br>\n",
    "* Programming is the process of giving machines a set of instructions that describe how a program should be carried out.\n",
    "* Debugging is the process of finding and fixing errors or bugs in the source code of any software. When software does not work as expected, computer programmers study the code to determine why any errors occurred. They use debugging tools to run the software in a controlled environment, check the code step by step, and analyze and fix the issue.\n",
    "---\n",
    "### Formal Language\n",
    "Languages designed for specific applications and are designed to express computations.\n",
    "### Natural Language\n",
    "Languages spoken by people like English, French, Japanese etcetera. They evolve timely and naturally."
   ]
  },
  {
   "cell_type": "markdown",
   "id": "bbe2062b",
   "metadata": {},
   "source": [
    "---"
   ]
  },
  {
   "cell_type": "markdown",
   "id": "c88062d9",
   "metadata": {},
   "source": [
    "## Variables, Expressions and Statements "
   ]
  },
  {
   "cell_type": "markdown",
   "id": "95223c0e",
   "metadata": {},
   "source": [
    "A **value** is something fundamental like a letter or a number, something that a program manipulates. For example"
   ]
  },
  {
   "cell_type": "code",
   "execution_count": 1,
   "id": "c1658816",
   "metadata": {},
   "outputs": [
    {
     "data": {
      "text/plain": [
       "(2, 2.1, 'Hello')"
      ]
     },
     "execution_count": 1,
     "metadata": {},
     "output_type": "execute_result"
    }
   ],
   "source": [
    "2, 2.10, \"Hello\""
   ]
  },
  {
   "cell_type": "markdown",
   "id": "b1a339b4",
   "metadata": {},
   "source": [
    "A value can have several types like integer `int`, float `float` or string `string`"
   ]
  },
  {
   "cell_type": "code",
   "execution_count": 2,
   "id": "6405fc0a",
   "metadata": {},
   "outputs": [
    {
     "name": "stdout",
     "output_type": "stream",
     "text": [
      "<class 'int'>\n",
      "<class 'float'>\n",
      "<class 'str'>\n"
     ]
    }
   ],
   "source": [
    "print(type(2))\n",
    "print(type(2.111))\n",
    "print(type(\"Hello\"))"
   ]
  },
  {
   "cell_type": "markdown",
   "id": "3c0d62f6",
   "metadata": {},
   "source": [
    "A variable is a name that refers to a value. For example"
   ]
  },
  {
   "cell_type": "code",
   "execution_count": 3,
   "id": "793ff776",
   "metadata": {},
   "outputs": [
    {
     "name": "stdout",
     "output_type": "stream",
     "text": [
      "The value of x is 44\n"
     ]
    }
   ],
   "source": [
    "x = 44\n",
    "print(\"The value of x is {}\".format(x))"
   ]
  },
  {
   "cell_type": "markdown",
   "id": "1638ba52",
   "metadata": {},
   "source": [
    "> A variable should have meaningful names like `cumulative_val` or `sum_of_product`, and not names like `1Alpha` or `exit`."
   ]
  },
  {
   "cell_type": "markdown",
   "id": "f722536f",
   "metadata": {},
   "source": [
    "There are also some keywords which we cannot use as variable names."
   ]
  },
  {
   "cell_type": "markdown",
   "id": "653984be",
   "metadata": {},
   "source": [
    "Python has 29 keywords:\n",
    "* and\n",
    "* def\n",
    "* exec\n",
    "* if\n",
    "* not\n",
    "* return\n",
    "* assert\n",
    "* del\n",
    "* finally\n",
    "* import\n",
    "* or \n",
    "* try\n",
    "* break\n",
    "* elif\n",
    "* for\n",
    "* in\n",
    "* pass\n",
    "* while\n",
    "* class\n",
    "* else\n",
    "* from\n",
    "* is\n",
    "* print\n",
    "* yield\n",
    "* continue\n",
    "* except\n",
    "* global\n",
    "* lambda\n",
    "* raise"
   ]
  },
  {
   "cell_type": "markdown",
   "id": "1a4bacaf",
   "metadata": {},
   "source": [
    "A **statement** is an instruction that the Python interpreter can execute. For example:"
   ]
  },
  {
   "cell_type": "code",
   "execution_count": 4,
   "id": "745a045c",
   "metadata": {},
   "outputs": [
    {
     "name": "stdout",
     "output_type": "stream",
     "text": [
      "1\n",
      "2 is not my favorite number\n"
     ]
    }
   ],
   "source": [
    "print(1)\n",
    "x = 2\n",
    "print(\"{} is not my favorite number\".format(x))"
   ]
  },
  {
   "cell_type": "markdown",
   "id": "6bc5ad1e",
   "metadata": {},
   "source": [
    "**Operators** are special symbols that represent computations like addition, subtraction, multiplication etc. The value the operator uses are called **operands**. For example:"
   ]
  },
  {
   "cell_type": "code",
   "execution_count": 5,
   "id": "65cd57ee",
   "metadata": {},
   "outputs": [
    {
     "name": "stdout",
     "output_type": "stream",
     "text": [
      "The circumference with given radius 44 is 276.32\n"
     ]
    }
   ],
   "source": [
    "radius = 44\n",
    "circumference = 2 * 3.14 * radius\n",
    "print(\"The circumference with given radius {} is {}\".format(radius, circumference))"
   ]
  },
  {
   "cell_type": "markdown",
   "id": "3c31ea6c",
   "metadata": {},
   "source": [
    "**Order of operations** in an expression because of order **precedence**. We can avoid this by using brackets, which also makes the expression more readable. The order of precedence is:\n",
    "* **P**arantheses `()`\n",
    "* **E**xponentiation `**`\n",
    "* **M**ultiplication\n",
    "* **D**ivision\n",
    "* **A**ddition\n",
    "* **S**ubtraction\n",
    "\n",
    "**M** and **D** have the same precendence but are evaluated left-to-right when occuring one after the other. Same with **A** and **S**. For example:"
   ]
  },
  {
   "cell_type": "code",
   "execution_count": 6,
   "id": "5f95ec79",
   "metadata": {},
   "outputs": [
    {
     "name": "stdout",
     "output_type": "stream",
     "text": [
      "20\n",
      "30\n",
      "5\n",
      "4\n"
     ]
    }
   ],
   "source": [
    "print(2+3*6)\n",
    "print((2+3)*6)\n",
    "print((2+3))\n",
    "print(2-3+5)"
   ]
  },
  {
   "cell_type": "markdown",
   "id": "02ca6c97",
   "metadata": {},
   "source": [
    "> Well it actually won't matter if we multiply or divide first. or add and subtract first. The problem lies with multiply/divide coming with add/sub"
   ]
  },
  {
   "cell_type": "markdown",
   "id": "7488dc7f",
   "metadata": {},
   "source": [
    "Even though we cannot mathematical operations on strings, we can still make some operations like concatenation, or repitition. For example:"
   ]
  },
  {
   "cell_type": "markdown",
   "id": "caab548a",
   "metadata": {},
   "source": [
    "**String concatenation**"
   ]
  },
  {
   "cell_type": "code",
   "execution_count": 7,
   "id": "2e4347ef",
   "metadata": {},
   "outputs": [
    {
     "name": "stdout",
     "output_type": "stream",
     "text": [
      "Hello World\n"
     ]
    }
   ],
   "source": [
    "my_string = \"Hello\"\n",
    "other_string = \"World\"\n",
    "new_string = my_string + \" \" + other_string\n",
    "print(new_string)"
   ]
  },
  {
   "cell_type": "markdown",
   "id": "96b7f99c",
   "metadata": {},
   "source": [
    "**String Multiplication**"
   ]
  },
  {
   "cell_type": "code",
   "execution_count": 8,
   "id": "374f881b",
   "metadata": {},
   "outputs": [
    {
     "name": "stdout",
     "output_type": "stream",
     "text": [
      "Hello Hello Hello \n"
     ]
    }
   ],
   "source": [
    "new_string = (my_string+\" \") * 3\n",
    "print(new_string)\n",
    "# Here I also added a space after hello to make it more readable"
   ]
  },
  {
   "cell_type": "markdown",
   "id": "c35d8112",
   "metadata": {},
   "source": [
    "**Composition** refers to the combinations of expressions, variables, operators and operands to compose them into something bigger to return a meaningful result."
   ]
  },
  {
   "cell_type": "markdown",
   "id": "3189b4ad",
   "metadata": {},
   "source": [
    "**Comments** are used to add additional notes in the program. This is very useful when our program is very large and/or contains multiple functions and classes. For example:"
   ]
  },
  {
   "cell_type": "code",
   "execution_count": 10,
   "id": "2d1d4a9e",
   "metadata": {},
   "outputs": [],
   "source": [
    "# This function does something that we don't know yet\n",
    "def do_something():\n",
    "    pass\n",
    "# HELLOOOOO I AM A COMMENT HEHEHEHE..."
   ]
  },
  {
   "cell_type": "code",
   "execution_count": null,
   "id": "83cc6b8f",
   "metadata": {},
   "outputs": [],
   "source": []
  }
 ],
 "metadata": {
  "kernelspec": {
   "display_name": "Python 3 (ipykernel)",
   "language": "python",
   "name": "python3"
  },
  "language_info": {
   "codemirror_mode": {
    "name": "ipython",
    "version": 3
   },
   "file_extension": ".py",
   "mimetype": "text/x-python",
   "name": "python",
   "nbconvert_exporter": "python",
   "pygments_lexer": "ipython3",
   "version": "3.10.5"
  },
  "vscode": {
   "interpreter": {
    "hash": "2a8dfe095fce2b5e88c64a2c3ee084c8e0e0d70b23e7b95b1cfb538be294c5c8"
   }
  }
 },
 "nbformat": 4,
 "nbformat_minor": 5
}
